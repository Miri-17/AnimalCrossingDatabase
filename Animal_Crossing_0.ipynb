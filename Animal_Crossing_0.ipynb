{
 "cells": [
  {
   "cell_type": "markdown",
   "metadata": {
    "id": "UiGTl5dYThmw"
   },
   "source": [
    "データベースを利用したプログラムの作成\n",
    "### **🍃🐰🐻 Animal Crossing Database 🐻🐰🍃**"
   ]
  },
  {
   "cell_type": "markdown",
   "metadata": {
    "id": "_9Jgix_j84K6"
   },
   "source": [
    "あつまれどうぶつの森で遊んでいるAさん、Bくん、Cさんの願いを叶えるようなアプリケーションを作ります。"
   ]
  },
  {
   "cell_type": "markdown",
   "metadata": {
    "id": "0qM9V3sBObIP"
   },
   "source": [
    "##準備\n",
    "このipynbファイルで、Google Driveのファイルにアクセスできるように変更します。"
   ]
  },
  {
   "cell_type": "code",
   "execution_count": null,
   "metadata": {
    "colab": {
     "base_uri": "https://localhost:8080/"
    },
    "executionInfo": {
     "elapsed": 2338,
     "status": "ok",
     "timestamp": 1720460875063,
     "user": {
      "displayName": "motsubo",
      "userId": "04281026447448702262"
     },
     "user_tz": -540
    },
    "id": "JIs0MSpuJW6b",
    "outputId": "40e9faec-5783-433f-fa5f-9519b09fa662"
   },
   "outputs": [
    {
     "name": "stdout",
     "output_type": "stream",
     "text": [
      "Drive already mounted at /content/gdrive; to attempt to forcibly remount, call drive.mount(\"/content/gdrive\", force_remount=True).\n"
     ]
    }
   ],
   "source": [
    "from google.colab import drive\n",
    "drive.mount('/content/gdrive')"
   ]
  },
  {
   "cell_type": "code",
   "execution_count": null,
   "metadata": {
    "colab": {
     "base_uri": "https://localhost:8080/"
    },
    "executionInfo": {
     "elapsed": 2,
     "status": "ok",
     "timestamp": 1720460875063,
     "user": {
      "displayName": "motsubo",
      "userId": "04281026447448702262"
     },
     "user_tz": -540
    },
    "id": "falAYT0mOywT",
    "outputId": "37d95106-db66-497f-8763-8830ebc598d5"
   },
   "outputs": [
    {
     "name": "stdout",
     "output_type": "stream",
     "text": [
      "/content/gdrive/MyDrive/Database\n"
     ]
    }
   ],
   "source": [
    "%cd /content/gdrive/MyDrive/Database/"
   ]
  },
  {
   "cell_type": "markdown",
   "metadata": {
    "id": "ZpbwQBUE6Fmy"
   },
   "source": [
    "##データの表示"
   ]
  },
  {
   "cell_type": "code",
   "execution_count": null,
   "metadata": {
    "id": "IV_ZXeIdPR4P"
   },
   "outputs": [],
   "source": [
    "# 必要なライブラリを追加します.\n",
    "import csv\n",
    "import pandas as pd\n",
    "import sqlite3"
   ]
  },
  {
   "cell_type": "code",
   "execution_count": null,
   "metadata": {
    "colab": {
     "base_uri": "https://localhost:8080/",
     "height": 382
    },
    "executionInfo": {
     "elapsed": 9,
     "status": "ok",
     "timestamp": 1720460876185,
     "user": {
      "displayName": "motsubo",
      "userId": "04281026447448702262"
     },
     "user_tz": -540
    },
    "id": "7_OlCMmiP3Eq",
    "outputId": "c25fce0f-721e-4362-b5c8-b2584ac4c325"
   },
   "outputs": [
    {
     "data": {
      "application/vnd.google.colaboratory.intrinsic+json": {
       "summary": "{\n  \"name\": \"df\",\n  \"rows\": 391,\n  \"fields\": [\n    {\n      \"column\": \"Name\",\n      \"properties\": {\n        \"dtype\": \"string\",\n        \"num_unique_values\": 391,\n        \"samples\": [\n          \"Anchovy\",\n          \"Biskit\",\n          \"Benedict\"\n        ],\n        \"semantic_type\": \"\",\n        \"description\": \"\"\n      }\n    },\n    {\n      \"column\": \"Species\",\n      \"properties\": {\n        \"dtype\": \"category\",\n        \"num_unique_values\": 35,\n        \"samples\": [\n          \"Goat\",\n          \"Kangaroo\",\n          \"Hippo\"\n        ],\n        \"semantic_type\": \"\",\n        \"description\": \"\"\n      }\n    },\n    {\n      \"column\": \"Gender\",\n      \"properties\": {\n        \"dtype\": \"category\",\n        \"num_unique_values\": 2,\n        \"samples\": [\n          \"Female\",\n          \"Male\"\n        ],\n        \"semantic_type\": \"\",\n        \"description\": \"\"\n      }\n    },\n    {\n      \"column\": \"Personality\",\n      \"properties\": {\n        \"dtype\": \"category\",\n        \"num_unique_values\": 8,\n        \"samples\": [\n          \"Peppy\",\n          \"Snooty\"\n        ],\n        \"semantic_type\": \"\",\n        \"description\": \"\"\n      }\n    },\n    {\n      \"column\": \"Hobby\",\n      \"properties\": {\n        \"dtype\": \"category\",\n        \"num_unique_values\": 6,\n        \"samples\": [\n          \"Nature\",\n          \"Fitness\"\n        ],\n        \"semantic_type\": \"\",\n        \"description\": \"\"\n      }\n    },\n    {\n      \"column\": \"Birthday\",\n      \"properties\": {\n        \"dtype\": \"string\",\n        \"num_unique_values\": 361,\n        \"samples\": [\n          \"30-Aug\",\n          \"3-Aug\"\n        ],\n        \"semantic_type\": \"\",\n        \"description\": \"\"\n      }\n    },\n    {\n      \"column\": \"Catchphrase\",\n      \"properties\": {\n        \"dtype\": \"string\",\n        \"num_unique_values\": 388,\n        \"samples\": [\n          \"li'l bitty baby\",\n          \"peach\"\n        ],\n        \"semantic_type\": \"\",\n        \"description\": \"\"\n      }\n    },\n    {\n      \"column\": \"Favorite Song\",\n      \"properties\": {\n        \"dtype\": \"category\",\n        \"num_unique_values\": 89,\n        \"samples\": [\n          \"K.K. Stroll\",\n          \"K.K. Fusion\"\n        ],\n        \"semantic_type\": \"\",\n        \"description\": \"\"\n      }\n    },\n    {\n      \"column\": \"Style 1\",\n      \"properties\": {\n        \"dtype\": \"category\",\n        \"num_unique_values\": 6,\n        \"samples\": [\n          \"Cool\",\n          \"Active\"\n        ],\n        \"semantic_type\": \"\",\n        \"description\": \"\"\n      }\n    },\n    {\n      \"column\": \"Style 2\",\n      \"properties\": {\n        \"dtype\": \"category\",\n        \"num_unique_values\": 6,\n        \"samples\": [\n          \"Cool\",\n          \"Simple\"\n        ],\n        \"semantic_type\": \"\",\n        \"description\": \"\"\n      }\n    },\n    {\n      \"column\": \"Color 1\",\n      \"properties\": {\n        \"dtype\": \"category\",\n        \"num_unique_values\": 14,\n        \"samples\": [\n          \"Purple\",\n          \"Beige\"\n        ],\n        \"semantic_type\": \"\",\n        \"description\": \"\"\n      }\n    },\n    {\n      \"column\": \"Color 2\",\n      \"properties\": {\n        \"dtype\": \"category\",\n        \"num_unique_values\": 14,\n        \"samples\": [\n          \"Gray\",\n          \"Yellow\"\n        ],\n        \"semantic_type\": \"\",\n        \"description\": \"\"\n      }\n    },\n    {\n      \"column\": \"Wallpaper\",\n      \"properties\": {\n        \"dtype\": \"category\",\n        \"num_unique_values\": 154,\n        \"samples\": [\n          \"shutter wall\",\n          \"modern shoji-screen wall\"\n        ],\n        \"semantic_type\": \"\",\n        \"description\": \"\"\n      }\n    },\n    {\n      \"column\": \"Flooring\",\n      \"properties\": {\n        \"dtype\": \"category\",\n        \"num_unique_values\": 128,\n        \"samples\": [\n          \"mint dot flooring\",\n          \"colorful puzzle flooring\"\n        ],\n        \"semantic_type\": \"\",\n        \"description\": \"\"\n      }\n    },\n    {\n      \"column\": \"Furniture List\",\n      \"properties\": {\n        \"dtype\": \"string\",\n        \"num_unique_values\": 391,\n        \"samples\": [\n          \"863;791;937;1177;3681;1081;1087;4014;1853;1852;1852\",\n          \"1199;2592;1082;1631;4113;3430;4038;1620;4003;338;7403\"\n        ],\n        \"semantic_type\": \"\",\n        \"description\": \"\"\n      }\n    },\n    {\n      \"column\": \"Filename\",\n      \"properties\": {\n        \"dtype\": \"string\",\n        \"num_unique_values\": 391,\n        \"samples\": [\n          \"brd02\",\n          \"dog03\"\n        ],\n        \"semantic_type\": \"\",\n        \"description\": \"\"\n      }\n    },\n    {\n      \"column\": \"Unique Entry ID\",\n      \"properties\": {\n        \"dtype\": \"string\",\n        \"num_unique_values\": 391,\n        \"samples\": [\n          \"T9ya79MPxRxcR4tae\",\n          \"nfeef6XSSstGwrbWo\"\n        ],\n        \"semantic_type\": \"\",\n        \"description\": \"\"\n      }\n    }\n  ]\n}",
       "type": "dataframe",
       "variable_name": "df"
      },
      "text/html": [
       "\n",
       "  <div id=\"df-7e5ad849-fafc-4d89-b1e7-963448f5ee87\" class=\"colab-df-container\">\n",
       "    <div>\n",
       "<style scoped>\n",
       "    .dataframe tbody tr th:only-of-type {\n",
       "        vertical-align: middle;\n",
       "    }\n",
       "\n",
       "    .dataframe tbody tr th {\n",
       "        vertical-align: top;\n",
       "    }\n",
       "\n",
       "    .dataframe thead th {\n",
       "        text-align: right;\n",
       "    }\n",
       "</style>\n",
       "<table border=\"1\" class=\"dataframe\">\n",
       "  <thead>\n",
       "    <tr style=\"text-align: right;\">\n",
       "      <th></th>\n",
       "      <th>Name</th>\n",
       "      <th>Species</th>\n",
       "      <th>Gender</th>\n",
       "      <th>Personality</th>\n",
       "      <th>Hobby</th>\n",
       "      <th>Birthday</th>\n",
       "      <th>Catchphrase</th>\n",
       "      <th>Favorite Song</th>\n",
       "      <th>Style 1</th>\n",
       "      <th>Style 2</th>\n",
       "      <th>Color 1</th>\n",
       "      <th>Color 2</th>\n",
       "      <th>Wallpaper</th>\n",
       "      <th>Flooring</th>\n",
       "      <th>Furniture List</th>\n",
       "      <th>Filename</th>\n",
       "      <th>Unique Entry ID</th>\n",
       "    </tr>\n",
       "  </thead>\n",
       "  <tbody>\n",
       "    <tr>\n",
       "      <th>0</th>\n",
       "      <td>Admiral</td>\n",
       "      <td>Bird</td>\n",
       "      <td>Male</td>\n",
       "      <td>Cranky</td>\n",
       "      <td>Nature</td>\n",
       "      <td>27-Jan</td>\n",
       "      <td>aye aye</td>\n",
       "      <td>Steep Hill</td>\n",
       "      <td>Cool</td>\n",
       "      <td>Cool</td>\n",
       "      <td>Black</td>\n",
       "      <td>Blue</td>\n",
       "      <td>dirt-clod wall</td>\n",
       "      <td>tatami</td>\n",
       "      <td>717;1849;7047;2736;787;5970;3449;3622;3802;410...</td>\n",
       "      <td>brd06</td>\n",
       "      <td>B3RyfNEqwGmcccRC3</td>\n",
       "    </tr>\n",
       "    <tr>\n",
       "      <th>1</th>\n",
       "      <td>Agent S</td>\n",
       "      <td>Squirrel</td>\n",
       "      <td>Female</td>\n",
       "      <td>Peppy</td>\n",
       "      <td>Fitness</td>\n",
       "      <td>2-Jul</td>\n",
       "      <td>sidekick</td>\n",
       "      <td>Go K.K. Rider</td>\n",
       "      <td>Active</td>\n",
       "      <td>Simple</td>\n",
       "      <td>Blue</td>\n",
       "      <td>Black</td>\n",
       "      <td>concrete wall</td>\n",
       "      <td>colorful tile flooring</td>\n",
       "      <td>7845;7150;3468;4080;290;3971;3449;1708;4756;25...</td>\n",
       "      <td>squ05</td>\n",
       "      <td>SGMdki6dzpDZyXAw5</td>\n",
       "    </tr>\n",
       "    <tr>\n",
       "      <th>2</th>\n",
       "      <td>Agnes</td>\n",
       "      <td>Pig</td>\n",
       "      <td>Female</td>\n",
       "      <td>Big Sister</td>\n",
       "      <td>Play</td>\n",
       "      <td>21-Apr</td>\n",
       "      <td>snuffle</td>\n",
       "      <td>K.K. House</td>\n",
       "      <td>Simple</td>\n",
       "      <td>Elegant</td>\n",
       "      <td>Pink</td>\n",
       "      <td>White</td>\n",
       "      <td>gray molded-panel wall</td>\n",
       "      <td>arabesque flooring</td>\n",
       "      <td>4129;7236;7235;7802;896;3428;4027;7325;3958;71...</td>\n",
       "      <td>pig17</td>\n",
       "      <td>jzWCiDPm9MqtCfecP</td>\n",
       "    </tr>\n",
       "    <tr>\n",
       "      <th>3</th>\n",
       "      <td>Al</td>\n",
       "      <td>Gorilla</td>\n",
       "      <td>Male</td>\n",
       "      <td>Lazy</td>\n",
       "      <td>Fitness</td>\n",
       "      <td>18-Oct</td>\n",
       "      <td>ayyyeee</td>\n",
       "      <td>Go K.K. Rider</td>\n",
       "      <td>Active</td>\n",
       "      <td>Active</td>\n",
       "      <td>Red</td>\n",
       "      <td>White</td>\n",
       "      <td>concrete wall</td>\n",
       "      <td>green rubber flooring</td>\n",
       "      <td>1452;4078;4013;833;4116;3697;7845;3307;3946;39...</td>\n",
       "      <td>gor08</td>\n",
       "      <td>LBifxETQJGEaLhBjC</td>\n",
       "    </tr>\n",
       "    <tr>\n",
       "      <th>4</th>\n",
       "      <td>Alfonso</td>\n",
       "      <td>Alligator</td>\n",
       "      <td>Male</td>\n",
       "      <td>Lazy</td>\n",
       "      <td>Play</td>\n",
       "      <td>9-Jun</td>\n",
       "      <td>it'sa me</td>\n",
       "      <td>Forest Life</td>\n",
       "      <td>Simple</td>\n",
       "      <td>Simple</td>\n",
       "      <td>Red</td>\n",
       "      <td>Blue</td>\n",
       "      <td>yellow playroom wall</td>\n",
       "      <td>green honeycomb tile</td>\n",
       "      <td>4763;3205;3701;1557;3623;85;3208;3584;4761;121...</td>\n",
       "      <td>crd00</td>\n",
       "      <td>REpd8KxB8p9aGBRSE</td>\n",
       "    </tr>\n",
       "  </tbody>\n",
       "</table>\n",
       "</div>\n",
       "    <div class=\"colab-df-buttons\">\n",
       "\n",
       "  <div class=\"colab-df-container\">\n",
       "    <button class=\"colab-df-convert\" onclick=\"convertToInteractive('df-7e5ad849-fafc-4d89-b1e7-963448f5ee87')\"\n",
       "            title=\"Convert this dataframe to an interactive table.\"\n",
       "            style=\"display:none;\">\n",
       "\n",
       "  <svg xmlns=\"http://www.w3.org/2000/svg\" height=\"24px\" viewBox=\"0 -960 960 960\">\n",
       "    <path d=\"M120-120v-720h720v720H120Zm60-500h600v-160H180v160Zm220 220h160v-160H400v160Zm0 220h160v-160H400v160ZM180-400h160v-160H180v160Zm440 0h160v-160H620v160ZM180-180h160v-160H180v160Zm440 0h160v-160H620v160Z\"/>\n",
       "  </svg>\n",
       "    </button>\n",
       "\n",
       "  <style>\n",
       "    .colab-df-container {\n",
       "      display:flex;\n",
       "      gap: 12px;\n",
       "    }\n",
       "\n",
       "    .colab-df-convert {\n",
       "      background-color: #E8F0FE;\n",
       "      border: none;\n",
       "      border-radius: 50%;\n",
       "      cursor: pointer;\n",
       "      display: none;\n",
       "      fill: #1967D2;\n",
       "      height: 32px;\n",
       "      padding: 0 0 0 0;\n",
       "      width: 32px;\n",
       "    }\n",
       "\n",
       "    .colab-df-convert:hover {\n",
       "      background-color: #E2EBFA;\n",
       "      box-shadow: 0px 1px 2px rgba(60, 64, 67, 0.3), 0px 1px 3px 1px rgba(60, 64, 67, 0.15);\n",
       "      fill: #174EA6;\n",
       "    }\n",
       "\n",
       "    .colab-df-buttons div {\n",
       "      margin-bottom: 4px;\n",
       "    }\n",
       "\n",
       "    [theme=dark] .colab-df-convert {\n",
       "      background-color: #3B4455;\n",
       "      fill: #D2E3FC;\n",
       "    }\n",
       "\n",
       "    [theme=dark] .colab-df-convert:hover {\n",
       "      background-color: #434B5C;\n",
       "      box-shadow: 0px 1px 3px 1px rgba(0, 0, 0, 0.15);\n",
       "      filter: drop-shadow(0px 1px 2px rgba(0, 0, 0, 0.3));\n",
       "      fill: #FFFFFF;\n",
       "    }\n",
       "  </style>\n",
       "\n",
       "    <script>\n",
       "      const buttonEl =\n",
       "        document.querySelector('#df-7e5ad849-fafc-4d89-b1e7-963448f5ee87 button.colab-df-convert');\n",
       "      buttonEl.style.display =\n",
       "        google.colab.kernel.accessAllowed ? 'block' : 'none';\n",
       "\n",
       "      async function convertToInteractive(key) {\n",
       "        const element = document.querySelector('#df-7e5ad849-fafc-4d89-b1e7-963448f5ee87');\n",
       "        const dataTable =\n",
       "          await google.colab.kernel.invokeFunction('convertToInteractive',\n",
       "                                                    [key], {});\n",
       "        if (!dataTable) return;\n",
       "\n",
       "        const docLinkHtml = 'Like what you see? Visit the ' +\n",
       "          '<a target=\"_blank\" href=https://colab.research.google.com/notebooks/data_table.ipynb>data table notebook</a>'\n",
       "          + ' to learn more about interactive tables.';\n",
       "        element.innerHTML = '';\n",
       "        dataTable['output_type'] = 'display_data';\n",
       "        await google.colab.output.renderOutput(dataTable, element);\n",
       "        const docLink = document.createElement('div');\n",
       "        docLink.innerHTML = docLinkHtml;\n",
       "        element.appendChild(docLink);\n",
       "      }\n",
       "    </script>\n",
       "  </div>\n",
       "\n",
       "\n",
       "<div id=\"df-301bb52c-4b71-4ce7-bdcd-5093702ea491\">\n",
       "  <button class=\"colab-df-quickchart\" onclick=\"quickchart('df-301bb52c-4b71-4ce7-bdcd-5093702ea491')\"\n",
       "            title=\"Suggest charts\"\n",
       "            style=\"display:none;\">\n",
       "\n",
       "<svg xmlns=\"http://www.w3.org/2000/svg\" height=\"24px\"viewBox=\"0 0 24 24\"\n",
       "     width=\"24px\">\n",
       "    <g>\n",
       "        <path d=\"M19 3H5c-1.1 0-2 .9-2 2v14c0 1.1.9 2 2 2h14c1.1 0 2-.9 2-2V5c0-1.1-.9-2-2-2zM9 17H7v-7h2v7zm4 0h-2V7h2v10zm4 0h-2v-4h2v4z\"/>\n",
       "    </g>\n",
       "</svg>\n",
       "  </button>\n",
       "\n",
       "<style>\n",
       "  .colab-df-quickchart {\n",
       "      --bg-color: #E8F0FE;\n",
       "      --fill-color: #1967D2;\n",
       "      --hover-bg-color: #E2EBFA;\n",
       "      --hover-fill-color: #174EA6;\n",
       "      --disabled-fill-color: #AAA;\n",
       "      --disabled-bg-color: #DDD;\n",
       "  }\n",
       "\n",
       "  [theme=dark] .colab-df-quickchart {\n",
       "      --bg-color: #3B4455;\n",
       "      --fill-color: #D2E3FC;\n",
       "      --hover-bg-color: #434B5C;\n",
       "      --hover-fill-color: #FFFFFF;\n",
       "      --disabled-bg-color: #3B4455;\n",
       "      --disabled-fill-color: #666;\n",
       "  }\n",
       "\n",
       "  .colab-df-quickchart {\n",
       "    background-color: var(--bg-color);\n",
       "    border: none;\n",
       "    border-radius: 50%;\n",
       "    cursor: pointer;\n",
       "    display: none;\n",
       "    fill: var(--fill-color);\n",
       "    height: 32px;\n",
       "    padding: 0;\n",
       "    width: 32px;\n",
       "  }\n",
       "\n",
       "  .colab-df-quickchart:hover {\n",
       "    background-color: var(--hover-bg-color);\n",
       "    box-shadow: 0 1px 2px rgba(60, 64, 67, 0.3), 0 1px 3px 1px rgba(60, 64, 67, 0.15);\n",
       "    fill: var(--button-hover-fill-color);\n",
       "  }\n",
       "\n",
       "  .colab-df-quickchart-complete:disabled,\n",
       "  .colab-df-quickchart-complete:disabled:hover {\n",
       "    background-color: var(--disabled-bg-color);\n",
       "    fill: var(--disabled-fill-color);\n",
       "    box-shadow: none;\n",
       "  }\n",
       "\n",
       "  .colab-df-spinner {\n",
       "    border: 2px solid var(--fill-color);\n",
       "    border-color: transparent;\n",
       "    border-bottom-color: var(--fill-color);\n",
       "    animation:\n",
       "      spin 1s steps(1) infinite;\n",
       "  }\n",
       "\n",
       "  @keyframes spin {\n",
       "    0% {\n",
       "      border-color: transparent;\n",
       "      border-bottom-color: var(--fill-color);\n",
       "      border-left-color: var(--fill-color);\n",
       "    }\n",
       "    20% {\n",
       "      border-color: transparent;\n",
       "      border-left-color: var(--fill-color);\n",
       "      border-top-color: var(--fill-color);\n",
       "    }\n",
       "    30% {\n",
       "      border-color: transparent;\n",
       "      border-left-color: var(--fill-color);\n",
       "      border-top-color: var(--fill-color);\n",
       "      border-right-color: var(--fill-color);\n",
       "    }\n",
       "    40% {\n",
       "      border-color: transparent;\n",
       "      border-right-color: var(--fill-color);\n",
       "      border-top-color: var(--fill-color);\n",
       "    }\n",
       "    60% {\n",
       "      border-color: transparent;\n",
       "      border-right-color: var(--fill-color);\n",
       "    }\n",
       "    80% {\n",
       "      border-color: transparent;\n",
       "      border-right-color: var(--fill-color);\n",
       "      border-bottom-color: var(--fill-color);\n",
       "    }\n",
       "    90% {\n",
       "      border-color: transparent;\n",
       "      border-bottom-color: var(--fill-color);\n",
       "    }\n",
       "  }\n",
       "</style>\n",
       "\n",
       "  <script>\n",
       "    async function quickchart(key) {\n",
       "      const quickchartButtonEl =\n",
       "        document.querySelector('#' + key + ' button');\n",
       "      quickchartButtonEl.disabled = true;  // To prevent multiple clicks.\n",
       "      quickchartButtonEl.classList.add('colab-df-spinner');\n",
       "      try {\n",
       "        const charts = await google.colab.kernel.invokeFunction(\n",
       "            'suggestCharts', [key], {});\n",
       "      } catch (error) {\n",
       "        console.error('Error during call to suggestCharts:', error);\n",
       "      }\n",
       "      quickchartButtonEl.classList.remove('colab-df-spinner');\n",
       "      quickchartButtonEl.classList.add('colab-df-quickchart-complete');\n",
       "    }\n",
       "    (() => {\n",
       "      let quickchartButtonEl =\n",
       "        document.querySelector('#df-301bb52c-4b71-4ce7-bdcd-5093702ea491 button');\n",
       "      quickchartButtonEl.style.display =\n",
       "        google.colab.kernel.accessAllowed ? 'block' : 'none';\n",
       "    })();\n",
       "  </script>\n",
       "</div>\n",
       "\n",
       "    </div>\n",
       "  </div>\n"
      ],
      "text/plain": [
       "      Name    Species  Gender Personality    Hobby Birthday Catchphrase  \\\n",
       "0  Admiral       Bird    Male      Cranky   Nature   27-Jan     aye aye   \n",
       "1  Agent S   Squirrel  Female       Peppy  Fitness    2-Jul    sidekick   \n",
       "2    Agnes        Pig  Female  Big Sister     Play   21-Apr     snuffle   \n",
       "3       Al    Gorilla    Male        Lazy  Fitness   18-Oct     ayyyeee   \n",
       "4  Alfonso  Alligator    Male        Lazy     Play    9-Jun    it'sa me   \n",
       "\n",
       "   Favorite Song Style 1  Style 2 Color 1 Color 2               Wallpaper  \\\n",
       "0     Steep Hill    Cool     Cool   Black    Blue          dirt-clod wall   \n",
       "1  Go K.K. Rider  Active   Simple    Blue   Black           concrete wall   \n",
       "2     K.K. House  Simple  Elegant    Pink   White  gray molded-panel wall   \n",
       "3  Go K.K. Rider  Active   Active     Red   White           concrete wall   \n",
       "4    Forest Life  Simple   Simple     Red    Blue    yellow playroom wall   \n",
       "\n",
       "                 Flooring                                     Furniture List  \\\n",
       "0                  tatami  717;1849;7047;2736;787;5970;3449;3622;3802;410...   \n",
       "1  colorful tile flooring  7845;7150;3468;4080;290;3971;3449;1708;4756;25...   \n",
       "2      arabesque flooring  4129;7236;7235;7802;896;3428;4027;7325;3958;71...   \n",
       "3   green rubber flooring  1452;4078;4013;833;4116;3697;7845;3307;3946;39...   \n",
       "4    green honeycomb tile  4763;3205;3701;1557;3623;85;3208;3584;4761;121...   \n",
       "\n",
       "  Filename    Unique Entry ID  \n",
       "0    brd06  B3RyfNEqwGmcccRC3  \n",
       "1    squ05  SGMdki6dzpDZyXAw5  \n",
       "2    pig17  jzWCiDPm9MqtCfecP  \n",
       "3    gor08  LBifxETQJGEaLhBjC  \n",
       "4    crd00  REpd8KxB8p9aGBRSE  "
      ]
     },
     "execution_count": 4,
     "metadata": {},
     "output_type": "execute_result"
    }
   ],
   "source": [
    "filename = 'datasets/villagers.csv'\n",
    "\n",
    "with open(filename, encoding='utf-8') as f:\n",
    "  df = pd.read_csv(f, encoding='utf-8', header=0, dtype=str)\n",
    "df.head()"
   ]
  },
  {
   "cell_type": "code",
   "execution_count": null,
   "metadata": {
    "colab": {
     "base_uri": "https://localhost:8080/",
     "height": 424
    },
    "executionInfo": {
     "elapsed": 8,
     "status": "ok",
     "timestamp": 1720460876186,
     "user": {
      "displayName": "motsubo",
      "userId": "04281026447448702262"
     },
     "user_tz": -540
    },
    "id": "K6ZM5eP9Wx6f",
    "outputId": "96f4c34b-2f21-4a48-903a-d27a42a2f1e8"
   },
   "outputs": [
    {
     "data": {
      "application/vnd.google.colaboratory.intrinsic+json": {
       "summary": "{\n  \"name\": \"df\",\n  \"rows\": 391,\n  \"fields\": [\n    {\n      \"column\": \"Name\",\n      \"properties\": {\n        \"dtype\": \"string\",\n        \"num_unique_values\": 391,\n        \"samples\": [\n          \"Anchovy\",\n          \"Biskit\",\n          \"Benedict\"\n        ],\n        \"semantic_type\": \"\",\n        \"description\": \"\"\n      }\n    },\n    {\n      \"column\": \"Species\",\n      \"properties\": {\n        \"dtype\": \"category\",\n        \"num_unique_values\": 35,\n        \"samples\": [\n          \"Goat\",\n          \"Kangaroo\",\n          \"Hippo\"\n        ],\n        \"semantic_type\": \"\",\n        \"description\": \"\"\n      }\n    },\n    {\n      \"column\": \"Gender\",\n      \"properties\": {\n        \"dtype\": \"category\",\n        \"num_unique_values\": 2,\n        \"samples\": [\n          \"Female\",\n          \"Male\"\n        ],\n        \"semantic_type\": \"\",\n        \"description\": \"\"\n      }\n    },\n    {\n      \"column\": \"Personality\",\n      \"properties\": {\n        \"dtype\": \"category\",\n        \"num_unique_values\": 8,\n        \"samples\": [\n          \"Peppy\",\n          \"Snooty\"\n        ],\n        \"semantic_type\": \"\",\n        \"description\": \"\"\n      }\n    },\n    {\n      \"column\": \"Hobby\",\n      \"properties\": {\n        \"dtype\": \"category\",\n        \"num_unique_values\": 6,\n        \"samples\": [\n          \"Nature\",\n          \"Fitness\"\n        ],\n        \"semantic_type\": \"\",\n        \"description\": \"\"\n      }\n    },\n    {\n      \"column\": \"Birthday\",\n      \"properties\": {\n        \"dtype\": \"string\",\n        \"num_unique_values\": 361,\n        \"samples\": [\n          \"30-Aug\",\n          \"3-Aug\"\n        ],\n        \"semantic_type\": \"\",\n        \"description\": \"\"\n      }\n    },\n    {\n      \"column\": \"Catchphrase\",\n      \"properties\": {\n        \"dtype\": \"string\",\n        \"num_unique_values\": 388,\n        \"samples\": [\n          \"li'l bitty baby\",\n          \"peach\"\n        ],\n        \"semantic_type\": \"\",\n        \"description\": \"\"\n      }\n    }\n  ]\n}",
       "type": "dataframe",
       "variable_name": "df"
      },
      "text/html": [
       "\n",
       "  <div id=\"df-6116e400-6c20-4bd7-a8b7-bbb49a64346b\" class=\"colab-df-container\">\n",
       "    <div>\n",
       "<style scoped>\n",
       "    .dataframe tbody tr th:only-of-type {\n",
       "        vertical-align: middle;\n",
       "    }\n",
       "\n",
       "    .dataframe tbody tr th {\n",
       "        vertical-align: top;\n",
       "    }\n",
       "\n",
       "    .dataframe thead th {\n",
       "        text-align: right;\n",
       "    }\n",
       "</style>\n",
       "<table border=\"1\" class=\"dataframe\">\n",
       "  <thead>\n",
       "    <tr style=\"text-align: right;\">\n",
       "      <th></th>\n",
       "      <th>Name</th>\n",
       "      <th>Species</th>\n",
       "      <th>Gender</th>\n",
       "      <th>Personality</th>\n",
       "      <th>Hobby</th>\n",
       "      <th>Birthday</th>\n",
       "      <th>Catchphrase</th>\n",
       "    </tr>\n",
       "  </thead>\n",
       "  <tbody>\n",
       "    <tr>\n",
       "      <th>0</th>\n",
       "      <td>Admiral</td>\n",
       "      <td>Bird</td>\n",
       "      <td>Male</td>\n",
       "      <td>Cranky</td>\n",
       "      <td>Nature</td>\n",
       "      <td>27-Jan</td>\n",
       "      <td>aye aye</td>\n",
       "    </tr>\n",
       "    <tr>\n",
       "      <th>1</th>\n",
       "      <td>Agent S</td>\n",
       "      <td>Squirrel</td>\n",
       "      <td>Female</td>\n",
       "      <td>Peppy</td>\n",
       "      <td>Fitness</td>\n",
       "      <td>2-Jul</td>\n",
       "      <td>sidekick</td>\n",
       "    </tr>\n",
       "    <tr>\n",
       "      <th>2</th>\n",
       "      <td>Agnes</td>\n",
       "      <td>Pig</td>\n",
       "      <td>Female</td>\n",
       "      <td>Big Sister</td>\n",
       "      <td>Play</td>\n",
       "      <td>21-Apr</td>\n",
       "      <td>snuffle</td>\n",
       "    </tr>\n",
       "    <tr>\n",
       "      <th>3</th>\n",
       "      <td>Al</td>\n",
       "      <td>Gorilla</td>\n",
       "      <td>Male</td>\n",
       "      <td>Lazy</td>\n",
       "      <td>Fitness</td>\n",
       "      <td>18-Oct</td>\n",
       "      <td>ayyyeee</td>\n",
       "    </tr>\n",
       "    <tr>\n",
       "      <th>4</th>\n",
       "      <td>Alfonso</td>\n",
       "      <td>Alligator</td>\n",
       "      <td>Male</td>\n",
       "      <td>Lazy</td>\n",
       "      <td>Play</td>\n",
       "      <td>9-Jun</td>\n",
       "      <td>it'sa me</td>\n",
       "    </tr>\n",
       "    <tr>\n",
       "      <th>...</th>\n",
       "      <td>...</td>\n",
       "      <td>...</td>\n",
       "      <td>...</td>\n",
       "      <td>...</td>\n",
       "      <td>...</td>\n",
       "      <td>...</td>\n",
       "      <td>...</td>\n",
       "    </tr>\n",
       "    <tr>\n",
       "      <th>386</th>\n",
       "      <td>Winnie</td>\n",
       "      <td>Horse</td>\n",
       "      <td>Female</td>\n",
       "      <td>Peppy</td>\n",
       "      <td>Fashion</td>\n",
       "      <td>31-Jan</td>\n",
       "      <td>hay-OK</td>\n",
       "    </tr>\n",
       "    <tr>\n",
       "      <th>387</th>\n",
       "      <td>Wolfgang</td>\n",
       "      <td>Wolf</td>\n",
       "      <td>Male</td>\n",
       "      <td>Cranky</td>\n",
       "      <td>Education</td>\n",
       "      <td>25-Nov</td>\n",
       "      <td>snarrrl</td>\n",
       "    </tr>\n",
       "    <tr>\n",
       "      <th>388</th>\n",
       "      <td>Yuka</td>\n",
       "      <td>Koala</td>\n",
       "      <td>Female</td>\n",
       "      <td>Snooty</td>\n",
       "      <td>Fashion</td>\n",
       "      <td>20-Jul</td>\n",
       "      <td>tsk tsk</td>\n",
       "    </tr>\n",
       "    <tr>\n",
       "      <th>389</th>\n",
       "      <td>Zell</td>\n",
       "      <td>Deer</td>\n",
       "      <td>Male</td>\n",
       "      <td>Smug</td>\n",
       "      <td>Music</td>\n",
       "      <td>7-Jun</td>\n",
       "      <td>pronk</td>\n",
       "    </tr>\n",
       "    <tr>\n",
       "      <th>390</th>\n",
       "      <td>Zucker</td>\n",
       "      <td>Octopus</td>\n",
       "      <td>Male</td>\n",
       "      <td>Lazy</td>\n",
       "      <td>Nature</td>\n",
       "      <td>8-Mar</td>\n",
       "      <td>bloop</td>\n",
       "    </tr>\n",
       "  </tbody>\n",
       "</table>\n",
       "<p>391 rows × 7 columns</p>\n",
       "</div>\n",
       "    <div class=\"colab-df-buttons\">\n",
       "\n",
       "  <div class=\"colab-df-container\">\n",
       "    <button class=\"colab-df-convert\" onclick=\"convertToInteractive('df-6116e400-6c20-4bd7-a8b7-bbb49a64346b')\"\n",
       "            title=\"Convert this dataframe to an interactive table.\"\n",
       "            style=\"display:none;\">\n",
       "\n",
       "  <svg xmlns=\"http://www.w3.org/2000/svg\" height=\"24px\" viewBox=\"0 -960 960 960\">\n",
       "    <path d=\"M120-120v-720h720v720H120Zm60-500h600v-160H180v160Zm220 220h160v-160H400v160Zm0 220h160v-160H400v160ZM180-400h160v-160H180v160Zm440 0h160v-160H620v160ZM180-180h160v-160H180v160Zm440 0h160v-160H620v160Z\"/>\n",
       "  </svg>\n",
       "    </button>\n",
       "\n",
       "  <style>\n",
       "    .colab-df-container {\n",
       "      display:flex;\n",
       "      gap: 12px;\n",
       "    }\n",
       "\n",
       "    .colab-df-convert {\n",
       "      background-color: #E8F0FE;\n",
       "      border: none;\n",
       "      border-radius: 50%;\n",
       "      cursor: pointer;\n",
       "      display: none;\n",
       "      fill: #1967D2;\n",
       "      height: 32px;\n",
       "      padding: 0 0 0 0;\n",
       "      width: 32px;\n",
       "    }\n",
       "\n",
       "    .colab-df-convert:hover {\n",
       "      background-color: #E2EBFA;\n",
       "      box-shadow: 0px 1px 2px rgba(60, 64, 67, 0.3), 0px 1px 3px 1px rgba(60, 64, 67, 0.15);\n",
       "      fill: #174EA6;\n",
       "    }\n",
       "\n",
       "    .colab-df-buttons div {\n",
       "      margin-bottom: 4px;\n",
       "    }\n",
       "\n",
       "    [theme=dark] .colab-df-convert {\n",
       "      background-color: #3B4455;\n",
       "      fill: #D2E3FC;\n",
       "    }\n",
       "\n",
       "    [theme=dark] .colab-df-convert:hover {\n",
       "      background-color: #434B5C;\n",
       "      box-shadow: 0px 1px 3px 1px rgba(0, 0, 0, 0.15);\n",
       "      filter: drop-shadow(0px 1px 2px rgba(0, 0, 0, 0.3));\n",
       "      fill: #FFFFFF;\n",
       "    }\n",
       "  </style>\n",
       "\n",
       "    <script>\n",
       "      const buttonEl =\n",
       "        document.querySelector('#df-6116e400-6c20-4bd7-a8b7-bbb49a64346b button.colab-df-convert');\n",
       "      buttonEl.style.display =\n",
       "        google.colab.kernel.accessAllowed ? 'block' : 'none';\n",
       "\n",
       "      async function convertToInteractive(key) {\n",
       "        const element = document.querySelector('#df-6116e400-6c20-4bd7-a8b7-bbb49a64346b');\n",
       "        const dataTable =\n",
       "          await google.colab.kernel.invokeFunction('convertToInteractive',\n",
       "                                                    [key], {});\n",
       "        if (!dataTable) return;\n",
       "\n",
       "        const docLinkHtml = 'Like what you see? Visit the ' +\n",
       "          '<a target=\"_blank\" href=https://colab.research.google.com/notebooks/data_table.ipynb>data table notebook</a>'\n",
       "          + ' to learn more about interactive tables.';\n",
       "        element.innerHTML = '';\n",
       "        dataTable['output_type'] = 'display_data';\n",
       "        await google.colab.output.renderOutput(dataTable, element);\n",
       "        const docLink = document.createElement('div');\n",
       "        docLink.innerHTML = docLinkHtml;\n",
       "        element.appendChild(docLink);\n",
       "      }\n",
       "    </script>\n",
       "  </div>\n",
       "\n",
       "\n",
       "<div id=\"df-8c2e83c8-58ce-46ca-ba22-c20db7552cc9\">\n",
       "  <button class=\"colab-df-quickchart\" onclick=\"quickchart('df-8c2e83c8-58ce-46ca-ba22-c20db7552cc9')\"\n",
       "            title=\"Suggest charts\"\n",
       "            style=\"display:none;\">\n",
       "\n",
       "<svg xmlns=\"http://www.w3.org/2000/svg\" height=\"24px\"viewBox=\"0 0 24 24\"\n",
       "     width=\"24px\">\n",
       "    <g>\n",
       "        <path d=\"M19 3H5c-1.1 0-2 .9-2 2v14c0 1.1.9 2 2 2h14c1.1 0 2-.9 2-2V5c0-1.1-.9-2-2-2zM9 17H7v-7h2v7zm4 0h-2V7h2v10zm4 0h-2v-4h2v4z\"/>\n",
       "    </g>\n",
       "</svg>\n",
       "  </button>\n",
       "\n",
       "<style>\n",
       "  .colab-df-quickchart {\n",
       "      --bg-color: #E8F0FE;\n",
       "      --fill-color: #1967D2;\n",
       "      --hover-bg-color: #E2EBFA;\n",
       "      --hover-fill-color: #174EA6;\n",
       "      --disabled-fill-color: #AAA;\n",
       "      --disabled-bg-color: #DDD;\n",
       "  }\n",
       "\n",
       "  [theme=dark] .colab-df-quickchart {\n",
       "      --bg-color: #3B4455;\n",
       "      --fill-color: #D2E3FC;\n",
       "      --hover-bg-color: #434B5C;\n",
       "      --hover-fill-color: #FFFFFF;\n",
       "      --disabled-bg-color: #3B4455;\n",
       "      --disabled-fill-color: #666;\n",
       "  }\n",
       "\n",
       "  .colab-df-quickchart {\n",
       "    background-color: var(--bg-color);\n",
       "    border: none;\n",
       "    border-radius: 50%;\n",
       "    cursor: pointer;\n",
       "    display: none;\n",
       "    fill: var(--fill-color);\n",
       "    height: 32px;\n",
       "    padding: 0;\n",
       "    width: 32px;\n",
       "  }\n",
       "\n",
       "  .colab-df-quickchart:hover {\n",
       "    background-color: var(--hover-bg-color);\n",
       "    box-shadow: 0 1px 2px rgba(60, 64, 67, 0.3), 0 1px 3px 1px rgba(60, 64, 67, 0.15);\n",
       "    fill: var(--button-hover-fill-color);\n",
       "  }\n",
       "\n",
       "  .colab-df-quickchart-complete:disabled,\n",
       "  .colab-df-quickchart-complete:disabled:hover {\n",
       "    background-color: var(--disabled-bg-color);\n",
       "    fill: var(--disabled-fill-color);\n",
       "    box-shadow: none;\n",
       "  }\n",
       "\n",
       "  .colab-df-spinner {\n",
       "    border: 2px solid var(--fill-color);\n",
       "    border-color: transparent;\n",
       "    border-bottom-color: var(--fill-color);\n",
       "    animation:\n",
       "      spin 1s steps(1) infinite;\n",
       "  }\n",
       "\n",
       "  @keyframes spin {\n",
       "    0% {\n",
       "      border-color: transparent;\n",
       "      border-bottom-color: var(--fill-color);\n",
       "      border-left-color: var(--fill-color);\n",
       "    }\n",
       "    20% {\n",
       "      border-color: transparent;\n",
       "      border-left-color: var(--fill-color);\n",
       "      border-top-color: var(--fill-color);\n",
       "    }\n",
       "    30% {\n",
       "      border-color: transparent;\n",
       "      border-left-color: var(--fill-color);\n",
       "      border-top-color: var(--fill-color);\n",
       "      border-right-color: var(--fill-color);\n",
       "    }\n",
       "    40% {\n",
       "      border-color: transparent;\n",
       "      border-right-color: var(--fill-color);\n",
       "      border-top-color: var(--fill-color);\n",
       "    }\n",
       "    60% {\n",
       "      border-color: transparent;\n",
       "      border-right-color: var(--fill-color);\n",
       "    }\n",
       "    80% {\n",
       "      border-color: transparent;\n",
       "      border-right-color: var(--fill-color);\n",
       "      border-bottom-color: var(--fill-color);\n",
       "    }\n",
       "    90% {\n",
       "      border-color: transparent;\n",
       "      border-bottom-color: var(--fill-color);\n",
       "    }\n",
       "  }\n",
       "</style>\n",
       "\n",
       "  <script>\n",
       "    async function quickchart(key) {\n",
       "      const quickchartButtonEl =\n",
       "        document.querySelector('#' + key + ' button');\n",
       "      quickchartButtonEl.disabled = true;  // To prevent multiple clicks.\n",
       "      quickchartButtonEl.classList.add('colab-df-spinner');\n",
       "      try {\n",
       "        const charts = await google.colab.kernel.invokeFunction(\n",
       "            'suggestCharts', [key], {});\n",
       "      } catch (error) {\n",
       "        console.error('Error during call to suggestCharts:', error);\n",
       "      }\n",
       "      quickchartButtonEl.classList.remove('colab-df-spinner');\n",
       "      quickchartButtonEl.classList.add('colab-df-quickchart-complete');\n",
       "    }\n",
       "    (() => {\n",
       "      let quickchartButtonEl =\n",
       "        document.querySelector('#df-8c2e83c8-58ce-46ca-ba22-c20db7552cc9 button');\n",
       "      quickchartButtonEl.style.display =\n",
       "        google.colab.kernel.accessAllowed ? 'block' : 'none';\n",
       "    })();\n",
       "  </script>\n",
       "</div>\n",
       "\n",
       "  <div id=\"id_ae17381c-d3e9-4552-a879-5a46eec5bc36\">\n",
       "    <style>\n",
       "      .colab-df-generate {\n",
       "        background-color: #E8F0FE;\n",
       "        border: none;\n",
       "        border-radius: 50%;\n",
       "        cursor: pointer;\n",
       "        display: none;\n",
       "        fill: #1967D2;\n",
       "        height: 32px;\n",
       "        padding: 0 0 0 0;\n",
       "        width: 32px;\n",
       "      }\n",
       "\n",
       "      .colab-df-generate:hover {\n",
       "        background-color: #E2EBFA;\n",
       "        box-shadow: 0px 1px 2px rgba(60, 64, 67, 0.3), 0px 1px 3px 1px rgba(60, 64, 67, 0.15);\n",
       "        fill: #174EA6;\n",
       "      }\n",
       "\n",
       "      [theme=dark] .colab-df-generate {\n",
       "        background-color: #3B4455;\n",
       "        fill: #D2E3FC;\n",
       "      }\n",
       "\n",
       "      [theme=dark] .colab-df-generate:hover {\n",
       "        background-color: #434B5C;\n",
       "        box-shadow: 0px 1px 3px 1px rgba(0, 0, 0, 0.15);\n",
       "        filter: drop-shadow(0px 1px 2px rgba(0, 0, 0, 0.3));\n",
       "        fill: #FFFFFF;\n",
       "      }\n",
       "    </style>\n",
       "    <button class=\"colab-df-generate\" onclick=\"generateWithVariable('df')\"\n",
       "            title=\"Generate code using this dataframe.\"\n",
       "            style=\"display:none;\">\n",
       "\n",
       "  <svg xmlns=\"http://www.w3.org/2000/svg\" height=\"24px\"viewBox=\"0 0 24 24\"\n",
       "       width=\"24px\">\n",
       "    <path d=\"M7,19H8.4L18.45,9,17,7.55,7,17.6ZM5,21V16.75L18.45,3.32a2,2,0,0,1,2.83,0l1.4,1.43a1.91,1.91,0,0,1,.58,1.4,1.91,1.91,0,0,1-.58,1.4L9.25,21ZM18.45,9,17,7.55Zm-12,3A5.31,5.31,0,0,0,4.9,8.1,5.31,5.31,0,0,0,1,6.5,5.31,5.31,0,0,0,4.9,4.9,5.31,5.31,0,0,0,6.5,1,5.31,5.31,0,0,0,8.1,4.9,5.31,5.31,0,0,0,12,6.5,5.46,5.46,0,0,0,6.5,12Z\"/>\n",
       "  </svg>\n",
       "    </button>\n",
       "    <script>\n",
       "      (() => {\n",
       "      const buttonEl =\n",
       "        document.querySelector('#id_ae17381c-d3e9-4552-a879-5a46eec5bc36 button.colab-df-generate');\n",
       "      buttonEl.style.display =\n",
       "        google.colab.kernel.accessAllowed ? 'block' : 'none';\n",
       "\n",
       "      buttonEl.onclick = () => {\n",
       "        google.colab.notebook.generateWithVariable('df');\n",
       "      }\n",
       "      })();\n",
       "    </script>\n",
       "  </div>\n",
       "\n",
       "    </div>\n",
       "  </div>\n"
      ],
      "text/plain": [
       "         Name    Species  Gender Personality      Hobby Birthday Catchphrase\n",
       "0     Admiral       Bird    Male      Cranky     Nature   27-Jan     aye aye\n",
       "1     Agent S   Squirrel  Female       Peppy    Fitness    2-Jul    sidekick\n",
       "2       Agnes        Pig  Female  Big Sister       Play   21-Apr     snuffle\n",
       "3          Al    Gorilla    Male        Lazy    Fitness   18-Oct     ayyyeee\n",
       "4     Alfonso  Alligator    Male        Lazy       Play    9-Jun    it'sa me\n",
       "..        ...        ...     ...         ...        ...      ...         ...\n",
       "386    Winnie      Horse  Female       Peppy    Fashion   31-Jan      hay-OK\n",
       "387  Wolfgang       Wolf    Male      Cranky  Education   25-Nov     snarrrl\n",
       "388      Yuka      Koala  Female      Snooty    Fashion   20-Jul     tsk tsk\n",
       "389      Zell       Deer    Male        Smug      Music    7-Jun       pronk\n",
       "390    Zucker    Octopus    Male        Lazy     Nature    8-Mar       bloop\n",
       "\n",
       "[391 rows x 7 columns]"
      ]
     },
     "execution_count": 5,
     "metadata": {},
     "output_type": "execute_result"
    }
   ],
   "source": [
    "drop_columns = ['Favorite Song', 'Style 1', 'Style 2', 'Color 1', 'Color 2', 'Wallpaper', 'Flooring', 'Furniture List',\\\n",
    "                'Filename', 'Unique Entry ID']\n",
    "df.drop(drop_columns, axis=1, inplace=True)\n",
    "df"
   ]
  },
  {
   "cell_type": "markdown",
   "metadata": {
    "id": "i5CEEPq7VDTj"
   },
   "source": [
    "⭐上記の表より、\n",
    "\n",
    "*   条件1: 100件以上のデータを使用する\n",
    "*   条件2: 4つ以上の列を使用する\n",
    "\n",
    "を満たしていることが分かります。\n"
   ]
  },
  {
   "cell_type": "markdown",
   "metadata": {
    "id": "8hnJY1x3YGYG"
   },
   "source": [
    "##SQLiteにデータを登録"
   ]
  },
  {
   "cell_type": "code",
   "execution_count": null,
   "metadata": {
    "id": "qaA0YAZ9Rtdp"
   },
   "outputs": [],
   "source": [
    "dbName = 'ANIMAL_CROSSING.db'\n",
    "tableName = 'villagers'\n",
    "\n",
    "with sqlite3.connect(dbName) as conn:\n",
    "  df.to_sql(tableName, conn, if_exists='replace', index=False)"
   ]
  },
  {
   "cell_type": "markdown",
   "metadata": {
    "id": "RMPr35pRMAGf"
   },
   "source": [
    "##どんなどうぶつがいるか調べる"
   ]
  },
  {
   "cell_type": "markdown",
   "metadata": {
    "id": "qWKrbRZ5Q7V4"
   },
   "source": [
    "####どうぶつの種族"
   ]
  },
  {
   "cell_type": "code",
   "execution_count": null,
   "metadata": {
    "colab": {
     "base_uri": "https://localhost:8080/"
    },
    "executionInfo": {
     "elapsed": 7,
     "status": "ok",
     "timestamp": 1720460876186,
     "user": {
      "displayName": "motsubo",
      "userId": "04281026447448702262"
     },
     "user_tz": -540
    },
    "id": "4t2gNen6MU6e",
    "outputId": "848271f1-714e-4cce-b8fc-c4fd20ec5ff0"
   },
   "outputs": [
    {
     "name": "stdout",
     "output_type": "stream",
     "text": [
      "1: Bird\n",
      "2: Squirrel\n",
      "3: Pig\n",
      "4: Gorilla\n",
      "5: Alligator\n",
      "6: Koala\n",
      "7: Eagle\n",
      "8: Anteater\n",
      "9: Bull\n",
      "10: Mouse\n",
      "11: Cat\n",
      "12: Horse\n",
      "13: Hamster\n",
      "14: Kangaroo\n",
      "15: Wolf\n",
      "16: Penguin\n",
      "17: Chicken\n",
      "18: Elephant\n",
      "19: Sheep\n",
      "20: Deer\n",
      "21: Tiger\n",
      "22: Cub\n",
      "23: Dog\n",
      "24: Bear\n",
      "25: Hippo\n",
      "26: Duck\n",
      "27: Goat\n",
      "28: Ostrich\n",
      "29: Rabbit\n",
      "30: Lion\n",
      "31: Frog\n",
      "32: Monkey\n",
      "33: Rhino\n",
      "34: Octopus\n",
      "35: Cow\n"
     ]
    }
   ],
   "source": [
    "cur = conn.cursor()\n",
    "cur.execute(\n",
    "    '''\n",
    "    SELECT DISTINCT Species FROM villagers\n",
    "    '''\n",
    ")\n",
    "docs = cur.fetchall()\n",
    "for idx, doc in enumerate(docs, start=1):\n",
    "  print(f\"{idx}: {doc[0]}\")"
   ]
  },
  {
   "cell_type": "markdown",
   "metadata": {
    "id": "Mt4I4kFjRFF5"
   },
   "source": [
    "####どうぶつの性格"
   ]
  },
  {
   "cell_type": "code",
   "execution_count": null,
   "metadata": {
    "colab": {
     "base_uri": "https://localhost:8080/"
    },
    "executionInfo": {
     "elapsed": 7,
     "status": "ok",
     "timestamp": 1720460876186,
     "user": {
      "displayName": "motsubo",
      "userId": "04281026447448702262"
     },
     "user_tz": -540
    },
    "id": "vMwO8UZaYDPB",
    "outputId": "517459e6-33d4-44c2-c885-d91d81f78e29"
   },
   "outputs": [
    {
     "name": "stdout",
     "output_type": "stream",
     "text": [
      "1: Cranky\n",
      "2: Peppy\n",
      "3: Big Sister\n",
      "4: Lazy\n",
      "5: Normal\n",
      "6: Snooty\n",
      "7: Jock\n",
      "8: Smug\n"
     ]
    }
   ],
   "source": [
    "cur.execute(\n",
    "    '''\n",
    "    SELECT DISTINCT Personality FROM villagers\n",
    "    '''\n",
    ")\n",
    "docs = cur.fetchall()\n",
    "for idx, doc in enumerate(docs, start=1):\n",
    "  print(f\"{idx}: {doc[0]}\")\n",
    "\n",
    "# SQLite3データベースとの接続を切断します.\n",
    "conn.close()"
   ]
  },
  {
   "cell_type": "markdown",
   "metadata": {
    "id": "RADCr4jzO-2v"
   },
   "source": [
    "種族とは異なり分かりにくいので、英日対応表を示しておきます。\n",
    "<table>\n",
    "  <thead>\n",
    "    <tr>\n",
    "      <th>英語名</th>\n",
    "      <th>日本語名</th>\n",
    "    </tr>\n",
    "  </thead>\n",
    "  <tbody>\n",
    "    <tr>\n",
    "      <td>Cranky</td>\n",
    "      <td>コワイ</td>\n",
    "    </tr>\n",
    "    <tr>\n",
    "      <td>Peppy</td>\n",
    "      <td>元気</td>\n",
    "    </tr>\n",
    "    <tr>\n",
    "      <td>Big Sister</td>\n",
    "      <td>アネキ</td>\n",
    "    </tr>\n",
    "    <tr>\n",
    "      <td>Lazy</td>\n",
    "      <td>ぼんやり</td>\n",
    "    </tr>\n",
    "    <tr>\n",
    "      <td>Normal</td>\n",
    "      <td>普通</td>\n",
    "    </tr>\n",
    "    <tr>\n",
    "      <td>Snooty</td>\n",
    "      <td>オトナ</td>\n",
    "    </tr>\n",
    "    <tr>\n",
    "      <td>Jock</td>\n",
    "      <td>ハキハキ</td>\n",
    "    </tr>\n",
    "    <tr>\n",
    "      <td>Smug</td>\n",
    "      <td>キザ</td>\n",
    "    </tr>\n",
    "  </tbody>\n",
    "</table>"
   ]
  },
  {
   "cell_type": "markdown",
   "metadata": {
    "id": "1RvmuaEtyU74"
   },
   "source": [
    "⭐どうぶつの種族や性格を検索する際に、結果に対して重複行を除外する操作を行っています。<br>\n",
    "*「条件3: 並び替えやグループ化など、検索結果に対して何かしらの操作を行う」を満たしています。"
   ]
  },
  {
   "cell_type": "markdown",
   "metadata": {
    "id": "iCXuZxFGG5RN"
   },
   "source": [
    "## ✨Aさんのお願い\n",
    "Aさんは新しく、\n",
    "\n",
    "*   種族 (Species) がウサギ (Rabbit)\n",
    "*   性格 (Personality) が元気 (Peppy)\n",
    "\n",
    "を満たすどうぶつを自分の島に勧誘したいそうです。<br>\n",
    "上の条件を満たすどうぶつの名前 (Name)、趣味 (Hobby)、誕生日 (Birthday)、口ぐせ (Catchphrase)を検索してください。<br>\n",
    "ただし、趣味と誕生日を昇順に並べ替えてください。"
   ]
  },
  {
   "cell_type": "code",
   "execution_count": null,
   "metadata": {
    "colab": {
     "base_uri": "https://localhost:8080/"
    },
    "executionInfo": {
     "elapsed": 6,
     "status": "ok",
     "timestamp": 1720460876186,
     "user": {
      "displayName": "motsubo",
      "userId": "04281026447448702262"
     },
     "user_tz": -540
    },
    "id": "hBSNKmudRYRY",
    "outputId": "d42a2ea8-ac13-4f09-eeb5-1b925b316d64"
   },
   "outputs": [
    {
     "name": "stdout",
     "output_type": "stream",
     "text": [
      "('Pippy', 'Fashion', '14-Jun', \"li'l hare\")\n",
      "('Dotty', 'Fashion', '14-Mar', 'wee one')\n",
      "('Gabi', 'Fashion', '16-Dec', 'honeybun')\n",
      "('Chrissy', 'Fashion', '28-Aug', 'sparkles')\n",
      "('Carmen', 'Fashion', '6-Jan', 'nougat')\n",
      "('Bunnie', 'Fashion', '9-May', 'tee-hee')\n",
      "('Ruby', 'Nature', '25-Dec', \"li'l ears\")\n",
      "('Bonbon', 'Play', '3-Mar', 'deelish')\n"
     ]
    }
   ],
   "source": [
    "# SQLite3データベースに接続します.\n",
    "conn = sqlite3.connect(dbName)\n",
    "cur = conn.cursor()\n",
    "cur.execute(\n",
    "    '''\n",
    "    SELECT Name, Hobby, Birthday, Catchphrase FROM villagers\n",
    "    WHERE Species = 'Rabbit' AND Personality = 'Peppy'\n",
    "    ORDER BY Hobby, Birthday\n",
    "    '''\n",
    ")\n",
    "for fetched_line in cur.fetchall():\n",
    "  print(fetched_line)"
   ]
  },
  {
   "cell_type": "markdown",
   "metadata": {
    "id": "w4YPnB7xTYUy"
   },
   "source": [
    "結果から、クリスチーヌ (Chrissy) やチョコ (Carmen) 、リリアン (Bunnie) などが該当することが分かりました。<br>\n",
    "![Chrissy](https://drive.google.com/uc?id=11O_9AR_iKXHO6me7PhnTX-Ndi8DZPLz8)\n",
    "![Carmen](https://drive.google.com/uc?id=1aawM1J1DXrwX3zvMbwvzvrgkQxtVhdRH)\n",
    "![Bunnie](https://drive.google.com/uc?id=1v3oYc_Yugyx2JQw6EL3Jfck4jIK0_G7R)"
   ]
  },
  {
   "cell_type": "markdown",
   "metadata": {
    "id": "V69UjzzoycQi"
   },
   "source": [
    "⭐検索結果に対して並べ替えを行っています。<br>\n",
    "*「条件3: 並び替えやグループ化など、検索結果に対して何かしらの操作を行う」を満たしています。"
   ]
  },
  {
   "cell_type": "markdown",
   "metadata": {
    "id": "SyJbMMkDz-9u"
   },
   "source": [
    "また、Aさんは趣味ごとに該当するどうぶつの情報を知りたいようです。<br>\n",
    "ただし、結果の名前は降順に表示してください。"
   ]
  },
  {
   "cell_type": "code",
   "execution_count": null,
   "metadata": {
    "colab": {
     "base_uri": "https://localhost:8080/"
    },
    "executionInfo": {
     "elapsed": 6,
     "status": "ok",
     "timestamp": 1720460876186,
     "user": {
      "displayName": "motsubo",
      "userId": "04281026447448702262"
     },
     "user_tz": -540
    },
    "id": "Fwb8Nww_zLRZ",
    "outputId": "ee9f2cc4-ea54-4a17-f96f-e8a7593e2dab"
   },
   "outputs": [
    {
     "name": "stdout",
     "output_type": "stream",
     "text": [
      "('Ruby', 'Nature', '25-Dec', \"li'l ears\")\n",
      "('Bunnie', 'Fashion', '9-May', 'tee-hee')\n",
      "('Bonbon', 'Play', '3-Mar', 'deelish')\n"
     ]
    }
   ],
   "source": [
    "cur.execute(\n",
    "    '''\n",
    "    SELECT Name, Hobby, Birthday, Catchphrase FROM villagers\n",
    "    WHERE Species = 'Rabbit' AND Personality = 'Peppy'\n",
    "    GROUP BY Hobby\n",
    "    ORDER BY Name DESC\n",
    "    '''\n",
    ")\n",
    "for fetched_line in cur.fetchall():\n",
    "  print(fetched_line)\n",
    "\n",
    "conn.close()"
   ]
  },
  {
   "cell_type": "markdown",
   "metadata": {
    "id": "sWSgMa5dzKWI"
   },
   "source": [
    "⭐検索結果に対して並べ替えやグルーブ化を行っています。<br>\n",
    "*「条件3: 並び替えやグループ化など、検索結果に対して何かしらの操作を行う」を満たしています。"
   ]
  },
  {
   "cell_type": "markdown",
   "metadata": {
    "id": "SXDrgsuFV5qB"
   },
   "source": [
    "## ✨Bくんのお願い\n",
    "Bくんは、大好きな住民スナイル (Hans) の情報がテーブルvillagersにないことに気が付きました。<br>\n",
    "スナイルの情報をテーブルに追加しましょう。<br>\n",
    "![Hans](https://drive.google.com/uc?id=1KtxZS3WSuicI4NabcPwbxqE__B0jyRV2)"
   ]
  },
  {
   "cell_type": "code",
   "execution_count": null,
   "metadata": {
    "colab": {
     "base_uri": "https://localhost:8080/"
    },
    "executionInfo": {
     "elapsed": 5,
     "status": "ok",
     "timestamp": 1720460876186,
     "user": {
      "displayName": "motsubo",
      "userId": "04281026447448702262"
     },
     "user_tz": -540
    },
    "id": "SLzVdLoRd7O3",
    "outputId": "a6d00dac-43d8-4d22-e035-0a9790a04e50"
   },
   "outputs": [
    {
     "name": "stdout",
     "output_type": "stream",
     "text": [
      "('Hans', 'Gorilla', 'Male', 'Smug', 'Fitness', '5-Dec', 'groovy')\n"
     ]
    }
   ],
   "source": [
    "# 実際にはHansの情報はテーブルvillagersに存在しているため, 便宜上検索します.\n",
    "conn = sqlite3.connect(dbName)\n",
    "cur = conn.cursor()\n",
    "cur.execute(\n",
    "    '''\n",
    "    SELECT * FROM villagers\n",
    "    WHERE Name = 'Hans'\n",
    "    '''\n",
    ")\n",
    "print(cur.fetchone())"
   ]
  },
  {
   "cell_type": "code",
   "execution_count": null,
   "metadata": {
    "id": "XNqffHkXl2Eh"
   },
   "outputs": [],
   "source": [
    "# 便宜上, この情報をDELETEします.\n",
    "cur.execute(\n",
    "    '''\n",
    "    DELETE FROM villagers\n",
    "    WHERE Name = 'Hans'\n",
    "    '''\n",
    ")\n",
    "\n",
    "# 変更を保存します.\n",
    "conn.commit()"
   ]
  },
  {
   "cell_type": "code",
   "execution_count": null,
   "metadata": {
    "colab": {
     "base_uri": "https://localhost:8080/"
    },
    "executionInfo": {
     "elapsed": 5,
     "status": "ok",
     "timestamp": 1720460876186,
     "user": {
      "displayName": "motsubo",
      "userId": "04281026447448702262"
     },
     "user_tz": -540
    },
    "id": "tVg-_7uZmiCS",
    "outputId": "276d7f4e-83a1-4ba4-f6aa-8cd65675303d"
   },
   "outputs": [
    {
     "name": "stdout",
     "output_type": "stream",
     "text": [
      "None\n"
     ]
    }
   ],
   "source": [
    "# Hansの情報がなくなったことを確認します.\n",
    "cur.execute(\n",
    "    '''\n",
    "    SELECT * FROM villagers\n",
    "    WHERE Name = 'Hans'\n",
    "    '''\n",
    ")\n",
    "print(cur.fetchone())"
   ]
  },
  {
   "cell_type": "code",
   "execution_count": null,
   "metadata": {
    "colab": {
     "base_uri": "https://localhost:8080/"
    },
    "executionInfo": {
     "elapsed": 4,
     "status": "ok",
     "timestamp": 1720460876186,
     "user": {
      "displayName": "motsubo",
      "userId": "04281026447448702262"
     },
     "user_tz": -540
    },
    "id": "4Ay-lP1cl-Qc",
    "outputId": "b49e3bcc-38ba-4888-fd1b-98913f7c3c20"
   },
   "outputs": [
    {
     "name": "stdout",
     "output_type": "stream",
     "text": [
      "('Hans', 'Gorilla', 'Male', 'Smug', 'Fitness', '5-Dec', 'groovy')\n"
     ]
    }
   ],
   "source": [
    "# Hansの情報を追加します.\n",
    "cur.execute(\n",
    "    '''\n",
    "    INSERT INTO villagers\n",
    "    VALUES\n",
    "    (\n",
    "      'Hans',\n",
    "      'Gorilla',\n",
    "      'Male',\n",
    "      'Smug',\n",
    "      'Fitness',\n",
    "      '5-Dec',\n",
    "      'groovy'\n",
    "    )\n",
    "    '''\n",
    ")\n",
    "\n",
    "conn.commit()\n",
    "\n",
    "# Hansの情報を検索します.\n",
    "cur.execute(\n",
    "    '''\n",
    "    SELECT * FROM villagers\n",
    "    WHERE Name = 'Hans'\n",
    "    '''\n",
    ")\n",
    "print(cur.fetchone())\n",
    "\n",
    "conn.close()"
   ]
  },
  {
   "cell_type": "markdown",
   "metadata": {
    "id": "40E_icihw1Go"
   },
   "source": [
    "スナイルの情報がテーブルに追加されていることが確認できました。"
   ]
  },
  {
   "cell_type": "markdown",
   "metadata": {
    "id": "RhZbAohnnmtw"
   },
   "source": [
    "## ✨Cさんのお願い\n",
    "Cさんは、自分の島の住民の情報のみが載った新たなテーブルを作成したいようです。"
   ]
  },
  {
   "cell_type": "markdown",
   "metadata": {
    "id": "42egkroM4Hcb"
   },
   "source": [
    "####1. テーブルvillagersにIDという列を追加する\n",
    "新しく作るテーブルのために、一意なことが保証されるIDという列をテーブルvillagersに追加します。"
   ]
  },
  {
   "cell_type": "code",
   "execution_count": null,
   "metadata": {
    "id": "LoDF74Ok4tX8"
   },
   "outputs": [],
   "source": [
    "conn = sqlite3.connect(dbName)\n",
    "cur = conn.cursor()\n",
    "\n",
    "# テーブルのスキーマを取得します.\n",
    "cur.execute('PRAGMA table_info(villagers)')\n",
    "columns = cur.fetchall()\n",
    "# columnsは\n",
    "# [(0, 'Name', 'TEXT', 0, None, 0), (1, 'Species', 'TEXT', 0, None, 0), (2, 'Gender', 'TEXT', 0, None, 0), (3, 'Personality', 'TEXT', 0, None, 0),\n",
    "# (4, 'Hobby', 'TEXT', 0, None, 0), (5, 'Birthday', 'TEXT', 0, None, 0), (6, 'Catchphrase', 'TEXT', 0, None, 0)]\n",
    "\n",
    "# テーブルvillagersの列名リストを作成します.\n",
    "column_names = [col[1] for col in columns]\n",
    "\n",
    "# 列Temp IDを追加します.\n",
    "cur.execute('ALTER TABLE villagers ADD COLUMN \"Temp ID\" INTEGER')\n",
    "\n",
    "# 一時テーブルvillagers_backupを作成して、テーブルvillagersのデータをコピーします.\n",
    "cur.execute('''\n",
    "CREATE TABLE villagers_backup AS SELECT * FROM villagers\n",
    "''')\n",
    "\n",
    "# テーブルvillagersを削除します.\n",
    "cur.execute('DROP TABLE villagers')\n",
    "\n",
    "# 新しい列IDを含むテーブルvillagersを再度作成します.\n",
    "cur.execute(f'''\n",
    "CREATE TABLE villagers (\n",
    "    ID INTEGER PRIMARY KEY,\n",
    "    {', '.join(column_names)}\n",
    ")\n",
    "''')\n",
    "\n",
    "# データを一時テーブルvillagers_backupからテーブルvillagersに戻しつつ、列IDに順序付きの値を設定します.\n",
    "cur.execute(f'''\n",
    "INSERT INTO villagers (ID, {', '.join(column_names)})\n",
    "SELECT ROW_NUMBER() OVER (ORDER BY \"Temp ID\"), {', '.join(column_names)}\n",
    "FROM villagers_backup\n",
    "''')\n",
    "\n",
    "# 一時テーブルvillagers_backupを削除します.\n",
    "cur.execute('DROP TABLE villagers_backup')\n",
    "\n",
    "conn.commit()"
   ]
  },
  {
   "cell_type": "markdown",
   "metadata": {
    "id": "p44tl2KaHJIy"
   },
   "source": [
    "*関数ROW_NUMBER()については、References (2) を参考にしました。<br>\n",
    "ORDER BY temp_idとすることで、元の順序を保ちながら行番号を割り当てています。"
   ]
  },
  {
   "cell_type": "code",
   "execution_count": null,
   "metadata": {
    "colab": {
     "base_uri": "https://localhost:8080/"
    },
    "executionInfo": {
     "elapsed": 3,
     "status": "ok",
     "timestamp": 1720460876762,
     "user": {
      "displayName": "motsubo",
      "userId": "04281026447448702262"
     },
     "user_tz": -540
    },
    "id": "G_rNHuryEBgH",
    "outputId": "40ee86c9-5969-4e77-992a-71b6d6ceb403"
   },
   "outputs": [
    {
     "name": "stdout",
     "output_type": "stream",
     "text": [
      "(1, 'Admiral', 'Bird', 'Male', 'Cranky', 'Nature', '27-Jan', 'aye aye')\n",
      "(2, 'Agent S', 'Squirrel', 'Female', 'Peppy', 'Fitness', '2-Jul', 'sidekick')\n",
      "(3, 'Agnes', 'Pig', 'Female', 'Big Sister', 'Play', '21-Apr', 'snuffle')\n"
     ]
    }
   ],
   "source": [
    "# conn = sqlite3.connect(dbName)\n",
    "# cur = conn.cursor()\n",
    "cur.execute(\n",
    "    '''\n",
    "    SELECT * FROM villagers\n",
    "    '''\n",
    ")\n",
    "print(cur.fetchone())\n",
    "print(cur.fetchone())\n",
    "print(cur.fetchone())"
   ]
  },
  {
   "cell_type": "markdown",
   "metadata": {
    "id": "rT1hjtDs4t2S"
   },
   "source": [
    "####2. myVillagersテーブルの作成"
   ]
  },
  {
   "cell_type": "code",
   "execution_count": null,
   "metadata": {
    "id": "9FW0Z1Xk1lyw"
   },
   "outputs": [],
   "source": [
    "cur.execute(\n",
    "    '''\n",
    "    CREATE TABLE myVillagers (\n",
    "      \"Villagers ID\" INTEGER REFERENCES villagers(ID),\n",
    "      Name           TEXT UNIQUE,\n",
    "      Personality    TEXT DEFAULT 'Unknown' NOT NULL,\n",
    "      Hobby          TEXT DEFAULT 'Unknown' NOT NULL,\n",
    "      Catchphrase    TEXT DEFAULT 'Unknown' NOT NULL,\n",
    "      Familiarity    INTEGER DEFAULT 1 CHECK(Familiarity >= 1\n",
    "                                         AND Familiarity <= 3),\n",
    "      PRIMARY KEY (\"Villagers ID\", Name)\n",
    "    )\n",
    "    '''\n",
    ")\n",
    "\n",
    "conn.commit()"
   ]
  },
  {
   "cell_type": "markdown",
   "metadata": {
    "id": "qWRD4NTCLMN4"
   },
   "source": [
    "参照整合性が崩れないようにVillagers IDに**外部キー制約**をつけました。<br>\n",
    "⭐「課題1: 複数の表を作成する (リレーションを設定すること) 」を満たしています。<br>"
   ]
  },
  {
   "cell_type": "markdown",
   "metadata": {
    "id": "Fj6Zdp3UMiMG"
   },
   "source": [
    "また、重複のあり得ない列Villagers IDと列Nameで複合主キーを構成しました。<br>\n",
    "Nameは重複があり得ないので**UNIQUE制約**を付けています。<br><br>\n",
    "テーブルmyVillagersには、villagersにもある列のうち、シリーズごとによく変更されるPersonalityと住民ごとに変更できる口ぐせを入れました。<br>\n",
    "また、住民に存在する3段階 (1、2、3) の親密度 (Familiarity) を追加しました。<br>\n",
    "これらの列には全て**NOT NULL制約**を**DEFAULT指定**と組み合わせて利用しています。<br>\n",
    "Familiarityは1、2、3しかあり得ないため、**CHECK制約**も指定しています。<br>\n",
    "⭐「課題2: 制約やDEFAULT等、表作成で工夫する」を満たしています。"
   ]
  },
  {
   "cell_type": "markdown",
   "metadata": {
    "id": "bUJpappWVYYk"
   },
   "source": [
    "####3. myVillagersテーブルに初期住人2人を追加する"
   ]
  },
  {
   "cell_type": "markdown",
   "metadata": {
    "id": "LfuoyDfuXBy2"
   },
   "source": [
    "初期住民は性格 (Personality) がアネキ (Big Sister) かハキハキ (Jock) だと決まっているので、それに該当するどうぶつを調べます。"
   ]
  },
  {
   "cell_type": "code",
   "execution_count": null,
   "metadata": {
    "colab": {
     "base_uri": "https://localhost:8080/"
    },
    "executionInfo": {
     "elapsed": 3,
     "status": "ok",
     "timestamp": 1720460876762,
     "user": {
      "displayName": "motsubo",
      "userId": "04281026447448702262"
     },
     "user_tz": -540
    },
    "id": "q8LIrLGdWdvk",
    "outputId": "1f48960b-abca-45d8-d442-d06154bd964c"
   },
   "outputs": [
    {
     "name": "stdout",
     "output_type": "stream",
     "text": [
      "(3, 'Agnes', 'Pig', 'Female', 'Big Sister', 'Play', '21-Apr', 'snuffle')\n",
      "(16, 'Antonio', 'Anteater', 'Male', 'Jock', 'Fitness', '20-Oct', 'honk')\n",
      "(24, 'Axel', 'Elephant', 'Male', 'Jock', 'Fitness', '23-Mar', 'WHONK')\n"
     ]
    }
   ],
   "source": [
    "cur.execute(\n",
    "    '''\n",
    "    SELECT * FROM villagers\n",
    "    WHERE Personality = 'Big Sister' OR Personality = 'Jock'\n",
    "    ORDER BY Name\n",
    "    '''\n",
    ")\n",
    "print(cur.fetchone())\n",
    "print(cur.fetchone())\n",
    "print(cur.fetchone())"
   ]
  },
  {
   "cell_type": "markdown",
   "metadata": {
    "id": "0fCkR-vadPWQ"
   },
   "source": [
    "このうち2つのどうぶつの情報をテーブルmyVillagersに追加します。"
   ]
  },
  {
   "cell_type": "code",
   "execution_count": null,
   "metadata": {
    "id": "ZGWg6_zwRQHJ"
   },
   "outputs": [],
   "source": [
    "data_for_villagers = [\n",
    "    (3, 'Agnes', 'Big Sister', 'Play', 'snuffle', 1),\n",
    "    (16, 'Antonio', 'Jock', 'Fitness', 'honk', 1),\n",
    "]\n",
    "\n",
    "for data in data_for_villagers:\n",
    "  cur.execute(\n",
    "      '''\n",
    "      INSERT INTO myVillagers\n",
    "      VALUES (?, ?, ?, ?, ?, ?)\n",
    "      ''',\n",
    "      data\n",
    "  )\n",
    "\n",
    "conn.commit()"
   ]
  },
  {
   "cell_type": "code",
   "execution_count": null,
   "metadata": {
    "colab": {
     "base_uri": "https://localhost:8080/"
    },
    "executionInfo": {
     "elapsed": 2,
     "status": "ok",
     "timestamp": 1720460876762,
     "user": {
      "displayName": "motsubo",
      "userId": "04281026447448702262"
     },
     "user_tz": -540
    },
    "id": "I84edhEaRI7W",
    "outputId": "a3e0f7df-0b91-4c7c-ce4b-55a1d91971e8"
   },
   "outputs": [
    {
     "name": "stdout",
     "output_type": "stream",
     "text": [
      "(3, 'Agnes', 'Big Sister', 'Play', 'snuffle', 1)\n",
      "(16, 'Antonio', 'Jock', 'Fitness', 'honk', 1)\n"
     ]
    }
   ],
   "source": [
    "cur.execute(\n",
    "    '''\n",
    "    SELECT * FROM myVillagers\n",
    "    '''\n",
    ")\n",
    "for fetched_line in cur.fetchall():\n",
    "  print(fetched_line)\n",
    "\n",
    "conn.close()"
   ]
  },
  {
   "cell_type": "markdown",
   "metadata": {
    "id": "E-FQY6oWY9J7"
   },
   "source": [
    "初期住民の情報がテーブルmyVillagersに追加されていることが確認できました。"
   ]
  },
  {
   "cell_type": "markdown",
   "metadata": {
    "id": "SK7bXbdmSPy1"
   },
   "source": [
    "##References\n",
    "(1) Jessica Li. \"Animal Crossing New Horizons Catalog\". kaggle. https://www.kaggle.com/datasets/jessicali9530/animal-crossing-new-horizons-nookplaza-dataset/data?select=wallpaper.csv, 2024-07-04.<br>\n",
    "(2) \"【SQL】連番を振るROW_NUMBER関数を解説！一番よく使う順位付け関数をマスターしよう\". POTEPAN STYLE. https://style.potepan.com/articles/23566.html, 2024-07-09."
   ]
  }
 ],
 "metadata": {
  "colab": {
   "provenance": [],
   "toc_visible": true
  },
  "kernelspec": {
   "display_name": "Python 3",
   "name": "python3"
  },
  "language_info": {
   "name": "python"
  }
 },
 "nbformat": 4,
 "nbformat_minor": 0
}
